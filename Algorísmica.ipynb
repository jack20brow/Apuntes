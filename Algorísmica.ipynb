{
 "cells": [
  {
   "cell_type": "markdown",
   "metadata": {},
   "source": [
    "# Algorísmica\n",
    "\n",
    "### 1. Introducción a Python\n",
    "\n",
    "- **Python**: Es un lenguaje de programación de lato nivel, fácil de usar y aprender.\n",
    "\n",
    "- **Entorno de trabajo**: Se recomienda usar Visual Studio Code con Jupyter Notebooks en este curso.\n",
    "\n",
    "- **Interpretación**: Python ejecuta instrucciones línea por línea, lo que lo hace interactivo y fácil de depurar.\n",
    "\n",
    "*Ejemplo básico de función en Python:*"
   ]
  },
  {
   "cell_type": "code",
   "execution_count": null,
   "metadata": {},
   "outputs": [],
   "source": [
    "def hola():\n",
    "    print (\"Hola!\")\n",
    "\n",
    "hola()"
   ]
  },
  {
   "cell_type": "markdown",
   "metadata": {},
   "source": [
    ">Hola!"
   ]
  },
  {
   "cell_type": "markdown",
   "metadata": {},
   "source": [
    "### 2. Definición y uso de funciones en Python\n",
    "\n",
    "- **Definir una función**: Se usa `def nombre_función():` para crear una función. \n",
    "\n",
    "- **Parámetros**: Las funciones pueden aceptar parámetros para trabajar con diferentes datos. \n",
    "\n",
    "- **Funciones sin parámetros**: Si no llamamos una función, esta no hace nada. Debemos invocarla para que se ejecute.\n",
    "\n",
    "*Ejemplo*:\n"
   ]
  },
  {
   "cell_type": "code",
   "execution_count": null,
   "metadata": {},
   "outputs": [],
   "source": [
    "def hola(nombre):\n",
    "    print(\"Hola\", nombre)\n",
    "hola(\"Carlos\")"
   ]
  },
  {
   "cell_type": "markdown",
   "metadata": {},
   "source": [
    ">Hola Carlos"
   ]
  },
  {
   "cell_type": "markdown",
   "metadata": {},
   "source": [
    "### 3. Estructuras de control en Python\n",
    "\n",
    "- **Condicionales**: Se usa `if`, `elif`, y `else` para tomar decisiones basadas en condiciones.\n",
    "\n",
    "- **Bucle `for`**: Repite un bloque de código un número determinado de veces. \n",
    "\n",
    "*Ejemplo*:\n"
   ]
  },
  {
   "cell_type": "code",
   "execution_count": null,
   "metadata": {},
   "outputs": [],
   "source": [
    "for i in range(5):\n",
    "    print(i)"
   ]
  },
  {
   "cell_type": "markdown",
   "metadata": {},
   "source": [
    ">0, 1, 2, 3, 4"
   ]
  },
  {
   "cell_type": "markdown",
   "metadata": {},
   "source": [
    "### 4. Variables y expresiones\n",
    "\n",
    "- **Variables**: Almacenan datos que pueden cambiar durante la ejecución del programa.\n",
    "\n",
    "*Ejemplo:*"
   ]
  },
  {
   "cell_type": "code",
   "execution_count": null,
   "metadata": {},
   "outputs": [],
   "source": [
    "x = 5\n",
    "y = 10"
   ]
  },
  {
   "cell_type": "markdown",
   "metadata": {},
   "source": [
    "- **Expresiones:** Combinaciones de variables, operadores y valores que Python puede evaluar.\n",
    "\n",
    "*Ejemplo:*"
   ]
  },
  {
   "cell_type": "code",
   "execution_count": null,
   "metadata": {},
   "outputs": [],
   "source": [
    "x = 3\n",
    "y = 4\n",
    "resultado = x * y\n",
    "print (resultado)"
   ]
  },
  {
   "cell_type": "markdown",
   "metadata": {},
   "source": [
    ">12"
   ]
  },
  {
   "cell_type": "markdown",
   "metadata": {},
   "source": [
    "### 5. Entrada y salida de datos\n",
    "\n",
    "- **Entrada**: Se usa `input()` para recibir datos del usuario.\n"
   ]
  },
  {
   "cell_type": "code",
   "execution_count": null,
   "metadata": {},
   "outputs": [],
   "source": [
    "nombre = input(\"¿Como te llamas?\")"
   ]
  },
  {
   "cell_type": "markdown",
   "metadata": {},
   "source": [
    "- **Salida**: Se usa `print()` para mostrar datos al usuario."
   ]
  },
  {
   "cell_type": "markdown",
   "metadata": {},
   "source": [
    "### 6. Iteraciones y bucles\n",
    "\n",
    "- **Bucle `while`**: Ejecuta un bloque de código mientras se cumpla una condición. \n",
    "\n",
    "*Ejemplo:*\n"
   ]
  },
  {
   "cell_type": "code",
   "execution_count": null,
   "metadata": {},
   "outputs": [],
   "source": [
    "i = 0\n",
    "while i < 5:\n",
    "    print(i)\n",
    "    i += 1"
   ]
  },
  {
   "cell_type": "markdown",
   "metadata": {},
   "source": [
    "### 7. Funciones avanzadas\n",
    "\n",
    "- **Funciones con retorno**: Las funciones pueden devolver un valor utilizando `return`.\n"
   ]
  },
  {
   "cell_type": "code",
   "execution_count": null,
   "metadata": {},
   "outputs": [],
   "source": [
    "def suma(a, b):\n",
    "    return a + b"
   ]
  },
  {
   "cell_type": "markdown",
   "metadata": {},
   "source": [
    "- **Variables locales y globales**: Las variables definidas dentro de una función solo son accesibles en esa función. Las variables globales pueden ser usadas en todo el programa."
   ]
  },
  {
   "cell_type": "markdown",
   "metadata": {},
   "source": [
    "### 8. Tipos de datos\n",
    "\n",
    "- **Enteros, flotantes y cadenas**: Son los tipos de datos más básicos en Python. \n",
    "\n",
    "*Ejemplo:*\n"
   ]
  },
  {
   "cell_type": "code",
   "execution_count": null,
   "metadata": {},
   "outputs": [],
   "source": [
    "x = 5     # Entero\n",
    "y = 3.14  # Flotante\n",
    "z = \"Hola\"  # Cadena"
   ]
  },
  {
   "cell_type": "markdown",
   "metadata": {},
   "source": [
    "- **Listas**: Colecciones ordenadas y mutables. \n",
    "\n",
    "*Ejemplo:*"
   ]
  },
  {
   "cell_type": "code",
   "execution_count": null,
   "metadata": {},
   "outputs": [],
   "source": [
    "lista = [1, 2, 3]\n",
    "lista.append(4)  # Agrega un elemento"
   ]
  },
  {
   "cell_type": "markdown",
   "metadata": {},
   "source": [
    "### 9. Uso de funciones y buenas prácticas\n",
    "\n",
    "- **Funciones como subprogramas**: Las funciones dividen un problema en partes más pequeñas para mejorar la claridad y el mantenimiento del código.\n",
    "- **Funciones reutilizables**: Se recomienda escribir funciones que resuelvan tareas específicas para reutilizarlas en el código.\n",
    "\n",
    "*Ejemplo*:\n"
   ]
  },
  {
   "cell_type": "code",
   "execution_count": null,
   "metadata": {},
   "outputs": [],
   "source": [
    "def suma(a, b):\n",
    "    return a + b"
   ]
  },
  {
   "cell_type": "markdown",
   "metadata": {},
   "source": [
    "- **Documentación**: Siempre documentar el propósito de la función usando comentarios o docstrings."
   ]
  },
  {
   "cell_type": "code",
   "execution_count": null,
   "metadata": {},
   "outputs": [],
   "source": [
    "def suma(a, b):\n",
    "    \"\"\"\n",
    "    Devuelve la suma de dos números.\n",
    "    \"\"\"\n",
    "    return a + b"
   ]
  },
  {
   "cell_type": "markdown",
   "metadata": {},
   "source": [
    "### 10. Tipos de datos avanzados: Listas\n",
    "\n",
    "- **Listas**: Son secuencias mutables que pueden contener diferentes tipos de datos."
   ]
  },
  {
   "cell_type": "code",
   "execution_count": null,
   "metadata": {},
   "outputs": [],
   "source": [
    "mi_lista = [1, 2, 3, \"Python\", 5.6]\n",
    "print(mi_lista)\n",
    "\n",
    "# Agregar un elemento\n",
    "mi_lista.append(4)\n",
    "print(mi_lista)"
   ]
  },
  {
   "cell_type": "markdown",
   "metadata": {},
   "source": [
    ">1, 2, 3, Python, 5.6\n",
    "\n",
    ">1, 2, 3, Python, 5.6, 4"
   ]
  },
  {
   "cell_type": "markdown",
   "metadata": {},
   "source": [
    "### 11. Diccionarios en Python\n",
    "\n",
    "- **Diccionarios**: Son colecciones que almacenan datos en pares clave-valor."
   ]
  },
  {
   "cell_type": "code",
   "execution_count": null,
   "metadata": {},
   "outputs": [],
   "source": [
    "diccionario = {'nombre': 'Juan', 'edad': 25}\n",
    "print(diccionario['nombre'])  # Accede al valor asociado a 'nombre'"
   ]
  },
  {
   "cell_type": "markdown",
   "metadata": {},
   "source": [
    "- **Operaciones con diccionarios**:\n",
    "  - Añadir elementos: `diccionario['ciudad'] = 'Barcelona'`\n",
    "  - Acceder a claves y valores: `diccionario.keys()`, `diccionario.values()`\n"
   ]
  },
  {
   "cell_type": "markdown",
   "metadata": {},
   "source": [
    "### 12. Tuplas en Python\n",
    "\n",
    "- **Tuplas**: Son similares a las listas pero **inmutables** (no se pueden modificar después de su creación)."
   ]
  },
  {
   "cell_type": "code",
   "execution_count": null,
   "metadata": {},
   "outputs": [],
   "source": [
    "tupla = (1, 2, 3)\n",
    "print(tupla[1])  # Accede al segundo elemento"
   ]
  },
  {
   "cell_type": "markdown",
   "metadata": {},
   "source": [
    ">2"
   ]
  },
  {
   "cell_type": "markdown",
   "metadata": {},
   "source": [
    "- **Útiles para datos que no cambian**: Las tuplas son más eficientes en cuanto a memoria que las listas."
   ]
  },
  {
   "cell_type": "markdown",
   "metadata": {},
   "source": [
    "### 13. Manejo de datos y estructuras complejas\n",
    "\n",
    "- **Referencias**: En Python, las variables almacenan referencias a objetos en lugar de los valores en sí. Las listas y otros objetos mutables comparten referencias, lo que puede ser peligroso si no se usa correctamente.\n",
    "\n",
    "- **Alias**: Cuando dos variables apuntan al mismo objeto:\n"
   ]
  },
  {
   "cell_type": "code",
   "execution_count": null,
   "metadata": {},
   "outputs": [],
   "source": [
    "a = [1, 2, 3]\n",
    "b = a  # 'a' y 'b' apuntan a la misma lista\n",
    "b[0] = 5\n",
    "print(a)  # [5, 2, 3]"
   ]
  },
  {
   "cell_type": "markdown",
   "metadata": {},
   "source": [
    "- **Clonación**: Crear una copia separada de una lista:"
   ]
  },
  {
   "cell_type": "code",
   "execution_count": null,
   "metadata": {},
   "outputs": [],
   "source": [
    "b = a[:]  # Crea una copia de 'a'"
   ]
  },
  {
   "cell_type": "markdown",
   "metadata": {},
   "source": [
    "### 14. Funciones y paso de argumentos\n",
    "\n",
    "- **Paso por referencia**: Cuando pasamos una lista a una función, estamos pasando una referencia a la lista original, por lo que las modificaciones afectarán la lista original.\n",
    "\n",
    "Ejemplo de función que modifica la lista:"
   ]
  },
  {
   "cell_type": "code",
   "execution_count": null,
   "metadata": {},
   "outputs": [],
   "source": [
    "def modificar_lista(lista):\n",
    "    lista.append(4)"
   ]
  },
  {
   "cell_type": "markdown",
   "metadata": {},
   "source": [
    "### 15. Ejemplo práctico: Estadísticas de palabras en un documento\n",
    "\n",
    "- **Objetivo**: Leer un archivo de texto, contar las palabras y mostrar las más frecuentes.\n",
    "\n",
    "**Algoritmo**:\n",
    "1. Leer el archivo.\n",
    "2. Convertir el texto a minúsculas.\n",
    "3. Reemplazar caracteres especiales por espacios.\n",
    "4. Dividir el texto en palabras.\n",
    "5. Contar la frecuencia de cada palabra.\n",
    "  \n",
    "*Ejemplo de código*:\n"
   ]
  },
  {
   "cell_type": "code",
   "execution_count": null,
   "metadata": {},
   "outputs": [],
   "source": [
    "texto = \"Este es un ejemplo. Este ejemplo es simple.\"\n",
    "palabras = texto.lower().split()\n",
    "frecuencia = {}\n",
    "for palabra in palabras:\n",
    "    if palabra in frecuencia:\n",
    "        frecuencia[palabra] += 1\n",
    "    else:\n",
    "        frecuencia[palabra] = 1"
   ]
  },
  {
   "cell_type": "markdown",
   "metadata": {},
   "source": [
    "### 16. Operadores relacionales y booleanos\n",
    "\n",
    "- **Operadores relacionales**:\n",
    "  - `<`, `>`, `<=`, `>=`, `==`, `!=`\n",
    "  \n",
    "  Comparan dos valores y devuelven un resultado booleano (`True` o `False`).\n",
    "  \n",
    "- **Operadores booleanos**:\n",
    "  - `and`, `or`, `not`\n",
    "\n",
    "*Ejemplo:*\n"
   ]
  },
  {
   "cell_type": "code",
   "execution_count": null,
   "metadata": {},
   "outputs": [],
   "source": [
    "a = 5\n",
    "b = 3\n",
    "resultado = (a > b) and (b > 0)  # True"
   ]
  },
  {
   "cell_type": "markdown",
   "metadata": {},
   "source": [
    "Test for commit"
   ]
  }
 ],
 "metadata": {
  "language_info": {
   "name": "python"
  }
 },
 "nbformat": 4,
 "nbformat_minor": 2
}
